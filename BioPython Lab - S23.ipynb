{
 "cells": [
  {
   "cell_type": "markdown",
   "metadata": {},
   "source": [
    "name: Bou Haidara email: bhaidara@gmail.com\n",
    "## Step 1: Using SeqIO, read in and parse the file of apple primary transcripts (available on Canvas):\n",
    "    - During your parsing, create a list of only transcripts of length 125 or less\n",
    "    - Report the number of transcripts matching this criteria\n",
    "    - Translate these sequences to protein, make sure to save them to their own list"
   ]
  },
  {
   "cell_type": "code",
   "execution_count": 1,
   "metadata": {
    "scrolled": true
   },
   "outputs": [
    {
     "name": "stdout",
     "output_type": "stream",
     "text": [
      "Requirement already satisfied: biopython in /Users/bauxhaidara/opt/anaconda3/lib/python3.9/site-packages (1.81)\n",
      "Requirement already satisfied: numpy in /Users/bauxhaidara/opt/anaconda3/lib/python3.9/site-packages (from biopython) (1.21.5)\n",
      "Note: you may need to restart the kernel to use updated packages.\n"
     ]
    }
   ],
   "source": [
    "pip install biopython"
   ]
  },
  {
   "cell_type": "code",
   "execution_count": 26,
   "metadata": {},
   "outputs": [
    {
     "ename": "TypeError",
     "evalue": "parse() missing 1 required positional argument: 'format'",
     "output_type": "error",
     "traceback": [
      "\u001b[0;31m---------------------------------------------------------------------------\u001b[0m",
      "\u001b[0;31mTypeError\u001b[0m                                 Traceback (most recent call last)",
      "\u001b[0;32m/var/folders/8z/lphqfgss49x39ny_y4n31tsr0000gn/T/ipykernel_52894/3225743325.py\u001b[0m in \u001b[0;36m<module>\u001b[0;34m\u001b[0m\n\u001b[1;32m     45\u001b[0m \u001b[0;34m\u001b[0m\u001b[0m\n\u001b[1;32m     46\u001b[0m \u001b[0;32mif\u001b[0m \u001b[0m__name__\u001b[0m\u001b[0;34m==\u001b[0m\u001b[0;34m\"__main__\"\u001b[0m\u001b[0;34m:\u001b[0m\u001b[0;34m\u001b[0m\u001b[0;34m\u001b[0m\u001b[0m\n\u001b[0;32m---> 47\u001b[0;31m     \u001b[0mmain\u001b[0m\u001b[0;34m(\u001b[0m\u001b[0;34m)\u001b[0m\u001b[0;34m\u001b[0m\u001b[0;34m\u001b[0m\u001b[0m\n\u001b[0m\u001b[1;32m     48\u001b[0m \u001b[0;34m\u001b[0m\u001b[0m\n\u001b[1;32m     49\u001b[0m \u001b[0;31m#nothing was yeilding when i was running it\u001b[0m\u001b[0;34m\u001b[0m\u001b[0;34m\u001b[0m\u001b[0m\n",
      "\u001b[0;32m/var/folders/8z/lphqfgss49x39ny_y4n31tsr0000gn/T/ipykernel_52894/3225743325.py\u001b[0m in \u001b[0;36mmain\u001b[0;34m()\u001b[0m\n\u001b[1;32m     41\u001b[0m \u001b[0;34m\u001b[0m\u001b[0m\n\u001b[1;32m     42\u001b[0m \u001b[0;32mdef\u001b[0m \u001b[0mmain\u001b[0m\u001b[0;34m(\u001b[0m\u001b[0;34m)\u001b[0m\u001b[0;34m:\u001b[0m\u001b[0;34m\u001b[0m\u001b[0;34m\u001b[0m\u001b[0m\n\u001b[0;32m---> 43\u001b[0;31m     \u001b[0mpars\u001b[0m \u001b[0;34m=\u001b[0m \u001b[0mblast\u001b[0m\u001b[0;34m(\u001b[0m\u001b[0mfile\u001b[0m \u001b[0;34m=\u001b[0m \u001b[0;34m\"/Users/bauxhaidara/Desktop/UNCC/BioInfomatics/BIOINF_PYTHON2_/Mdomestica_491_v1.1.cds_primaryTranscriptOnly.fa\"\u001b[0m\u001b[0;34m)\u001b[0m\u001b[0;34m\u001b[0m\u001b[0;34m\u001b[0m\u001b[0m\n\u001b[0m\u001b[1;32m     44\u001b[0m \u001b[0;34m\u001b[0m\u001b[0m\n\u001b[1;32m     45\u001b[0m \u001b[0;34m\u001b[0m\u001b[0m\n",
      "\u001b[0;32m/var/folders/8z/lphqfgss49x39ny_y4n31tsr0000gn/T/ipykernel_52894/3225743325.py\u001b[0m in \u001b[0;36mblast\u001b[0;34m(file)\u001b[0m\n\u001b[1;32m     34\u001b[0m     \u001b[0mseqFile\u001b[0m \u001b[0;34m=\u001b[0m \u001b[0mfastaParser\u001b[0m\u001b[0;34m(\u001b[0m\u001b[0mfile\u001b[0m\u001b[0;34m)\u001b[0m\u001b[0;34m\u001b[0m\u001b[0;34m\u001b[0m\u001b[0m\n\u001b[1;32m     35\u001b[0m     \u001b[0;31m#this is for looping through the file and looking anything less than 125 bp and add it to the empty list\u001b[0m\u001b[0;34m\u001b[0m\u001b[0;34m\u001b[0m\u001b[0m\n\u001b[0;32m---> 36\u001b[0;31m     \u001b[0;32mfor\u001b[0m \u001b[0mi\u001b[0m \u001b[0;32min\u001b[0m \u001b[0mSeqIO\u001b[0m\u001b[0;34m.\u001b[0m\u001b[0mparse\u001b[0m\u001b[0;34m(\u001b[0m\u001b[0mseqFile\u001b[0m\u001b[0;34m)\u001b[0m\u001b[0;34m:\u001b[0m\u001b[0;34m\u001b[0m\u001b[0;34m\u001b[0m\u001b[0m\n\u001b[0m\u001b[1;32m     37\u001b[0m         \u001b[0;32mif\u001b[0m \u001b[0mlen\u001b[0m\u001b[0;34m(\u001b[0m\u001b[0mi\u001b[0m\u001b[0;34m.\u001b[0m\u001b[0mseq\u001b[0m\u001b[0;34m)\u001b[0m \u001b[0;34m<=\u001b[0m \u001b[0;36m125\u001b[0m\u001b[0;34m:\u001b[0m\u001b[0;34m\u001b[0m\u001b[0;34m\u001b[0m\u001b[0m\n\u001b[1;32m     38\u001b[0m             \u001b[0mlst\u001b[0m\u001b[0;34m.\u001b[0m\u001b[0mappend\u001b[0m\u001b[0;34m(\u001b[0m\u001b[0mi\u001b[0m\u001b[0;34m.\u001b[0m\u001b[0mseq\u001b[0m\u001b[0;34m.\u001b[0m\u001b[0mtranslate\u001b[0m\u001b[0;34m(\u001b[0m\u001b[0;34m)\u001b[0m\u001b[0;34m)\u001b[0m\u001b[0;34m\u001b[0m\u001b[0;34m\u001b[0m\u001b[0m\n",
      "\u001b[0;31mTypeError\u001b[0m: parse() missing 1 required positional argument: 'format'"
     ]
    }
   ],
   "source": [
    "#I have used this website for this https://www.youtube.com/watch?v=Y9POfa_PH-M&t=111s\n",
    "#getting the SeqIO module from biopython for the parser\n",
    "from Bio import SeqIO\n",
    "\n",
    "\n",
    "#this function allows for fasta parser of files \n",
    "def fastaParser(file):\n",
    "    #opens the Mdomestica\n",
    "    #pars = blast(file = \"/Users/bauxhaidara/Desktop/UNCC/BioInfomatics/BIOINF_PYTHON2_/Mdomestica_491_v1.1.cds_primaryTranscriptOnly.fa\")\n",
    "    openfasta = open(\"/Users/bauxhaidara/Desktop/UNCC/BioInfomatics/BIOINF_PYTHON2_/Mdomestica_491_v1.1.cds_primaryTranscriptOnly.fa\")\n",
    "    #sets what will be the header\n",
    "    header = \"\"\n",
    "    #sets what will be the sequence\n",
    "    sequence = \"\"\n",
    "    #loops through the file and strips the characters that going to be headers or sequences\n",
    "    for line in openfasta:\n",
    "        line = line.strip()\n",
    "        if line.startswith(\">\"):\n",
    "            if header:\n",
    "                yield (header,sequence)\n",
    "                sequence = \"\"\n",
    "            #line is a header\n",
    "            header = line.lstrip(\">\")\n",
    "        else:\n",
    "            #line is a sequence line\n",
    "            sequence += line.strip()\n",
    "    yield (header,sequence)\n",
    "    \n",
    "#this function allows the looping of the file and seperate them if they are less than 125 bp\n",
    "def blast(file):\n",
    "#this is an empty list for the seq can be added to\n",
    "    seqLst = []\n",
    "    #this references the fastaParser function for the values\n",
    "    seqFile = fastaParser(file)\n",
    "    #this is for looping through the file and looking anything less than 125 bp and add it to the empty list\n",
    "    for i in SeqIO.parse(seqFile):\n",
    "        if len(i.seq) <= 125:\n",
    "            lst.append(i.seq.translate())\n",
    "    print(seqLst)\n",
    "\n",
    "\n",
    "def main():\n",
    "    pars = blast(file = \"/Users/bauxhaidara/Desktop/UNCC/BioInfomatics/BIOINF_PYTHON2_/Mdomestica_491_v1.1.cds_primaryTranscriptOnly.fa\")\n",
    "    \n",
    "    \n",
    "if __name__==\"__main__\":\n",
    "    main()\n",
    "        \n",
    "#nothing was yeilding when i was running it"
   ]
  },
  {
   "cell_type": "code",
   "execution_count": 27,
   "metadata": {},
   "outputs": [
    {
     "name": "stdout",
     "output_type": "stream",
     "text": [
      "[Seq('MYGAGAKEDLQLCSGCLCTCSAEALQIQRKRRRVYNFLCT*'), Seq('MGPYRSQQIKSQPNGHVYGQRGHDHRRDEVVAAPGAPDRV*'), Seq('MILGYHRPLNGLEVGRTVAVRGAVVDGAWSTGASTGRMIA*'), Seq('MPLSAHGTSEIFSKNMGMFVRLCRSRWYIQTSHSSNLFRI*'), Seq('MVKYSREPDNITKSCKARGSDLRVHFKVFGLFKFGQFGQD*'), Seq('MVGVPQVFRRGELPNEVSCLLLICQSNESLFRSQIAKSSS*'), Seq('MIRRSKYCERHAKKEHITNTTPDEERDENISDEESKLKGQ*'), Seq('MPVVLRELDLESSCMVKFTVDLLCYELRSSWIVFRPQTRK*'), Seq('MGSIDFVERGTGSVVFGRAMRKRIEWCFRLVLQMSYGLSN*'), Seq('MDQITSFLAHVHPKVHPGLVTGRYIWLLLIVTAACVIKQH*'), Seq('MIEMFVNRKIVNLIGRLGIELELEVSHVSWSDAVPNILLS*'), Seq('MLMNGFNEAKRETDMASSTSSGAAGNFYTWNGRIVLCAFF*'), Seq('MGPTRKDWSLRLDDALWAYRTAYKTPIGMSPFRLIYAPIK*'), Seq('MKLFWVKFWRCQSLEVLVMRALLALALSLSLQCRSLQGLC*'), Seq('MIEAKNQALFAGHLVELELADGYFECAGLVSLVHAAYACR*'), Seq('MTKHCPQIDSSTQVPDLSCRPCGKESCESNLHVSVLCPEG*'), Seq('MKKPDSAVKRDRKAEKRRIYNKSQKSEIKTRMKKVVMSFH*'), Seq('MSAELAEVGLELMAAEVEEAGLKLTSAETGLNLGCAAEAG*'), Seq('MLSDSEENDHDQTEQLMIADSNVDVTIARLSTKKESSSFA*'), Seq('MLIQLRKSLRNTASKPVCGRLFLGPGYEENTYAQWEWAID*'), Seq('MVCTKRVADWESWRAIPKELKMHMIDELAPIGTLTKVAQI*'), Seq('MGYLGCASPPIFETLVLLRSVCDPPEKPRETPSCCLARKN*'), Seq('MQPDTGQGEGDEDEDVDKNDIEKHNGECDCEGRIQGFEGH*'), Seq('MAWFTCCTGFTSLLLVISLKNQSFYKGHFPFLQSTGHCPD*'), Seq('MHSYPATSLGMESWDNTNLIVFSAPPSFFQRLTFKAYFQH*'), Seq('MSLASWSGLKRAAVTMTTHKNESTVSLQWVNHHGGNHPIH*'), Seq('MKTSLWREMKRKFGCINSVGDSNCQLKKKKKKKVHPKHGV*'), Seq('MVIMLLLLPKFLNLTEVSLLNRFCVLVMYDFLFCTIMMKN*'), Seq('MRFDFWFQEKLSMRSKVFCKRSCLNFGLSVCNLASCLRSR*'), Seq('MSVVFSLQSVAYSNPRFLGLLGYWCTSSFWLKCCLVTSTC*'), Seq('MCIENSWSCVGGFGFVGLYIVISIYNVLDSGFQNVLQTMS*'), Seq('MNALRYLLDWKCSISLKILSLIDVYIASPLSWEIARLFAA*'), Seq('MRVKNMSQLIRSHKEVMTAPCLIPPPPTSAATALVEMDPR*'), Seq('MEWRPLKANDANVQMQSPNDEAMFDEATMVDDGMLNSPFG*'), Seq('MRIVHGLGFGLVESGCINELEMKNWATGVWGQCLVALLMV*'), Seq('MQRCPRCTKRLKRQPRRAPKLTDLQIVSVQPRDNNLELPV*'), Seq('MLMHKISEDFGTTESVSFVKLFYKVLLRRNDMFTYSEGQV*'), Seq('MQNNITKYWTLLLCNITKGAEAYECGCRKRVQLETRTSRF*'), Seq('MQFLDCKFVVKNSLFIYSNCYHVCLTSSVLSEIRKIHNCK*'), Seq('MRQQIVSAFLRDYQLSNQEVTRKASRDFLRSGTIARLRSW*'), Seq('MIWFCFVFLGNGVVRFSQLLGCHFHVGSTSTKLRVRICKI*'), Seq('MLSDGEPVPCLHRSCGSKKSWFFKASFCCFELLAFFYPKL*'), Seq('MTSSIGVSGGSCDVASSRIAVLFSTISPRSCSAISLPGRT*'), Seq('MESNSPGLSWDRQTEGCCIETSPFGFSALMKFYLFPTASS*'), Seq('MNESWVFTTVQHAISNPNGKRQSLKLQPRSLLQSCMGKPL*'), Seq('MEKTTPTTSKDHHKDRHSNQKPKEPATRNRRKLGILDQWL*'), Seq('MNESWVFTTVQHAISNPNGKRQSLKLQPRSLLQSCMGKPL*'), Seq('MFVRFGFCSWLEFPLGMFPSRRAHNSSRGWREQVVQIACT*'), Seq('MIWCFVELMFIVYGFACILLCIPTLGIQGTKFRSISNFLF*'), Seq('MVAHVSDFGISKLLGEGESTTRAKTLVTIGYMAPEGIVST*'), Seq('MHAFLGRNRPGNRHTVSGVLLRRRLGVRLHQTQKNSPIFR*'), Seq('MLIDALAQATSSTSLVWCQNQKQKEIIQLVGMLEYCQRLS*'), Seq('MNCFTSSSAFHNPPQASSGIFGYVEIVCFAYLVVSFDFIL*'), Seq('MHLIGSSLAVVGSRGPFRLSDRFGTCRTHLRVMYSHFSPT*'), Seq('MILLHRKGRHSADTVKSVWVRCVLPHGRACLNTCTLRFLD*'), Seq('MSEMPATSCGVAGCSGLQVRRMWCHSPSKTSSKWIEKQER*'), Seq('MEARRQGGSKFSEIDVFADVYVRPRNELVESLHVTMMEKR*'), Seq('MGCFLSSSSSFFFQWQSHMLLNLLPLLVWSNSKESVKYNL*'), Seq('MLADHKWWKLMNTNFGIEPKMKRSWIHTVGNVDGGLIPNV*'), Seq('MKTETMEGYLKDSNVGVDLVVGGVVTPTDTANHELAAQAI*'), Seq('MSRGILDFGWFRLLQMGALDVRRWLADTERLITLLMEGTL*'), Seq('MMKVMGPKTCLHSIRDYLFQVLGISWQVDLGWVDALGGLR*')]\n",
      "62\n"
     ]
    }
   ],
   "source": [
    "#this is an empty list for the seq can be added to\n",
    "seqLst = []\n",
    "#this is for looping through the file and looking anything less than 125 bp and add it to the empty list\n",
    "for i in SeqIO.parse(\"/Users/bauxhaidara/Desktop/UNCC/BioInfomatics/BIOINF_PYTHON2_/Mdomestica_491_v1.1.cds_primaryTranscriptOnly.fa\",\"fasta\"):\n",
    "        if len(i.seq) <= 125:\n",
    "            seqLst.append(i.seq.translate())\n",
    "print(seqLst)\n",
    "print(len(seqLst))"
   ]
  },
  {
   "cell_type": "markdown",
   "metadata": {},
   "source": [
    "## Step 2: Running BLAST and reading results\n",
    "     *Because we are doing a web BLAST, choose ONLY one sequence from our list of short proteins*.\n",
    "    - Run BLAST with your sequence against the NR database\n",
    "    - Parse the results. Report any HSPs with an E-value less than 0.05 and show the HSP alignments, including the name of the matching sequence. If no HSPs meet that criteria, report the highest scoring pair.\n",
    "    - If for whatever reason the sequence you selected fails to return any results, try a new one "
   ]
  },
  {
   "cell_type": "code",
   "execution_count": null,
   "metadata": {},
   "outputs": [],
   "source": [
    "#https://www.youtube.com/watch?v=Tl_b-qcBXR4"
   ]
  },
  {
   "cell_type": "code",
   "execution_count": 28,
   "metadata": {},
   "outputs": [
    {
     "data": {
      "text/plain": [
       "'/Users/bauxhaidara/Desktop/UNCC/BioInfomatics/BIOINF_PYTHON2_'"
      ]
     },
     "execution_count": 28,
     "metadata": {},
     "output_type": "execute_result"
    }
   ],
   "source": [
    "pwd"
   ]
  },
  {
   "cell_type": "code",
   "execution_count": null,
   "metadata": {},
   "outputs": [],
   "source": [
    "#I have used http://biopython.org/DIST/docs/tutorial/Tutorial.html#sec123\n",
    "import subprocess\n",
    "from Bio.Blast import NCBIXML\n",
    "result_handle = open(\"my_blast.xml\", \"r\")\n",
    "blast_record = NCBIXML.parse(result_handle)\n",
    "blast_record = next(blast_records)\n",
    "E_VALUE_THRESH = 0.04\n",
    "for alignment in blast_record.alignments:\n",
    "    for hsp in alignment.hsps:\n",
    "        if hsp.expect < E_VALUE_THRESH:\n",
    "            print(\"****Alignment****\")\n",
    "            print(\"sequence:\", alignment.title)\n",
    "            print(\"length:\", alignment.length)\n",
    "            print(\"e value:\", hsp.expect)\n",
    "            print(hsp.query[0:75] + \"...\")\n",
    "            print(hsp.match[0:75] + \"...\")\n",
    "            print(hsp.sbjct[0:75] + \"...\")\n",
    "    "
   ]
  }
 ],
 "metadata": {
  "kernelspec": {
   "display_name": "Python 3 (ipykernel)",
   "language": "python",
   "name": "python3"
  },
  "language_info": {
   "codemirror_mode": {
    "name": "ipython",
    "version": 3
   },
   "file_extension": ".py",
   "mimetype": "text/x-python",
   "name": "python",
   "nbconvert_exporter": "python",
   "pygments_lexer": "ipython3",
   "version": "3.9.13"
  }
 },
 "nbformat": 4,
 "nbformat_minor": 2
}
