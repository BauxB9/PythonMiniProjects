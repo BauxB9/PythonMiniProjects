{
 "cells": [
  {
   "cell_type": "markdown",
   "metadata": {},
   "source": [
    "Name:\n",
    "Email:"
   ]
  },
  {
   "cell_type": "markdown",
   "metadata": {},
   "source": [
    "# Sorting algorithms\n",
    "\n",
    "In this lab, you'll be completing two tasks. In the first section, you'll be writing your own implementation of a simple sorthing algorithm, the Bubble Sort. In the second part, you'll using Jupyter magics to compare the performance of your Bubble Sort function to the built-in sorting function, and draw conclusions based on sorting of different sized lists.\n"
   ]
  },
  {
   "cell_type": "markdown",
   "metadata": {},
   "source": [
    "## Part 1 - Bubble Sort\n",
    "\n",
    "Bubble sort is a simple sorting algorithm that works be comparing two numbers at a time (the bubble), and swapping their positions (if necessary) before sliding the bubble down and comparing the next two. A basic pseudocode implementation for a small list might like look this.\n",
    "\n",
    "For list [5,2,3,7]:\n",
    "    - Compare 5 and 2\n",
    "    - 5 is larger than two, so swap their positions (list is now 2,5,3,7)\n",
    "    - Slide the bubble one position, compare 5 and 3\n",
    "    - 5 is larger than 3, so swap their position (list is now 2,3,5,7)\n",
    "    - Compare 5 and 7. No swap needed\n",
    "    - We have reached the end of the list, so go back to the start and begin comparisons again.\n",
    "    - The bubble can do one less slide this time. The largest number guaranteed to be in the last position, so we don't need to evaluate it.\n",
    "    \n",
    "    \n",
    "See this resource for a visualization of how this algorithm works https://visualgo.net/en/sorting\n",
    "    "
   ]
  },
  {
   "cell_type": "code",
   "execution_count": 1,
   "metadata": {},
   "outputs": [
    {
     "name": "stdout",
     "output_type": "stream",
     "text": [
      "[1, 3, 4, 6, 8, 9, 9, 10, 11, 22, 25, 33, 33]\n"
     ]
    }
   ],
   "source": [
    "#BO HAIDARA BHAIDARA@UNCC.EDU\n",
    "\n",
    "#the bubble sorting is moving the larger inter to the end\n",
    "#finding the positioning of 2 elements\n",
    "#making sure they are compared\n",
    "#non appending but switching based on positioning\n",
    "#2 for loops\n",
    "\n",
    "# I used information from the https://www.youtube.com/watch?v=ppmIOUIz4uI to understand conceptually\n",
    "\n",
    "\n",
    "\n",
    "#fucntion of the bubble sorting \n",
    "#the argument \"lst\" is what is going to be stored \n",
    "def bubble_sort(lst):\n",
    "    #this will allow us to compare all numbers in the total range within the list with \n",
    "    #the -1 is used because it includes the last value within the list\n",
    "    for i in range(len(lst)-1):\n",
    "        #this second for loop allows us to loop through again and sets up the comparison of the 2 values \n",
    "        #it includes the last number in the list \n",
    "        for num in range(len(lst)-1-i):\n",
    "            #if the first number in the lst is greater than the second number\n",
    "            if lst[num] > lst[num + 1]:\n",
    "                #the numbers should switch poistions \n",
    "                lst[num],lst[num+1] = lst[num+1], lst[num]\n",
    "    #return the list\n",
    "    return lst\n",
    "\n",
    "\n",
    "\n",
    "lst = [33, 25, 11, 10, 9, 33, 22, 1, 9, 3, 8, 4, 6]\n",
    "\n",
    "\n",
    "\n",
    "\n",
    "print(bubble_sort(lst))\n",
    "\n",
    "\n",
    "\n",
    "\n",
    "\n",
    "\n",
    "\n"
   ]
  },
  {
   "cell_type": "markdown",
   "metadata": {},
   "source": [
    "## Part 2 - Comparing Sorts\n",
    "\n",
    "Now that you have a working Bubble Sort, compare it's performance with the built in .sort() function that lists have. For this comparision, use the %time magic to see how long each method takes to sort a list of random numbers. Run this comparison a number of times across a variety of list lengths. What conclusions can you draw based on these comparisons?\n",
    "\n",
    "You can use .copy() on a list to create a copy of a list of random numbers to be used for sorting. This is helpful because you wouldn't want to pass an already sorted list from one function to the other.\n",
    "\n",
    "Use this section to experiment with markdown cells as a way to present the results of your comparisons."
   ]
  },
  {
   "cell_type": "code",
   "execution_count": 14,
   "metadata": {},
   "outputs": [
    {
     "name": "stdout",
     "output_type": "stream",
     "text": [
      "CPU times: user 4 µs, sys: 1 µs, total: 5 µs\n",
      "Wall time: 14.8 µs\n",
      "[1, 3, 4, 6, 8, 9, 9, 10, 11, 22, 25, 33, 33]\n",
      "CPU times: user 3 µs, sys: 1 µs, total: 4 µs\n",
      "Wall time: 8.34 µs\n",
      "[1, 5, 6, 7, 9, 23, 23, 24, 32, 34, 34, 34, 42, 43, 45, 57, 57, 65, 68, 76, 97, 98, 100]\n",
      "CPU times: user 3 µs, sys: 1e+03 ns, total: 4 µs\n",
      "Wall time: 6.91 µs\n",
      "[2, 4, 4, 9, 12, 21, 39, 44, 48, 57, 65, 67, 74, 76, 83, 85, 92, 928]\n"
     ]
    }
   ],
   "source": [
    "import random \n",
    "\n",
    "def bubble_sort(lst):\n",
    "    %time\n",
    "    #this will allow us to compare all numbers in the total range within the list with \n",
    "    #the -1 is used because it includes the last value within the list\n",
    "    for i in range(len(lst)-1):\n",
    "        #this second for loop allows us to loop through again and sets up the comparison of the 2 values \n",
    "        #it includes the last number in the list \n",
    "        for num in range(len(lst)-1-i):\n",
    "            #if the first number in the lst is greater than the second number\n",
    "            if lst[num] > lst[num + 1]:\n",
    "                #the numbers should switch poistions \n",
    "                lst[num],lst[num+1] = lst[num+1], lst[num]\n",
    "    #return the list\n",
    "    return lst\n",
    "        \n",
    "\n",
    "lst = [33, 25, 11, 10, 9, 33, 22, 1, 9, 3, 8, 4, 6]\n",
    "lst2 = [1,34,23,24,42,57,45,76,68,98,100,23,34,57,7,9,97,6,5,43,32,34,65]\n",
    "lst3 = [928,12,39,48,57,92,83,74,4,85,9,21,2,4,44,65,76,67]\n",
    "\n",
    "print(bubble_sort(lst))\n",
    "print(bubble_sort(lst2))\n",
    "print(bubble_sort(lst3))\n",
    "\n",
    "#What conclusions can you draw based on these comparisons? \n",
    "#depending on the list size the time is in micro seconds but depends on the length\n"
   ]
  },
  {
   "cell_type": "code",
   "execution_count": null,
   "metadata": {},
   "outputs": [],
   "source": []
  },
  {
   "cell_type": "code",
   "execution_count": null,
   "metadata": {},
   "outputs": [],
   "source": []
  }
 ],
 "metadata": {
  "kernelspec": {
   "display_name": "Python 3 (ipykernel)",
   "language": "python",
   "name": "python3"
  },
  "language_info": {
   "codemirror_mode": {
    "name": "ipython",
    "version": 3
   },
   "file_extension": ".py",
   "mimetype": "text/x-python",
   "name": "python",
   "nbconvert_exporter": "python",
   "pygments_lexer": "ipython3",
   "version": "3.9.13"
  },
  "vscode": {
   "interpreter": {
    "hash": "b0fa6594d8f4cbf19f97940f81e996739fb7646882a419484c72d19e05852a7e"
   }
  }
 },
 "nbformat": 4,
 "nbformat_minor": 2
}
