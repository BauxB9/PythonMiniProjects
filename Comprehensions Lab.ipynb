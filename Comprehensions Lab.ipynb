{
 "cells": [
  {
   "cell_type": "markdown",
   "metadata": {},
   "source": [
    "Name:\n",
    "Email:\n",
    "\n",
    "## Write the Comprehensions that answer the following questions\n",
    "\n",
    "- Test your comprehensions thoroughly! We want to see your tests and results."
   ]
  },
  {
   "cell_type": "markdown",
   "metadata": {},
   "source": [
    "### 1.\n",
    "\n",
    "Use a comprehension to filter invalid bases (not ATGC) from a sequence"
   ]
  },
  {
   "cell_type": "code",
   "execution_count": 149,
   "metadata": {},
   "outputs": [
    {
     "name": "stdout",
     "output_type": "stream",
     "text": [
      "['A', 'T', 'G', 'A', 'C', 'G', 'A']\n"
     ]
    }
   ],
   "source": [
    "#Bou Haidara\n",
    "#bhaidara@uncc.edu\n",
    "\n",
    "seq = \"ATGNAZCGA\"\n",
    "# results should be ATGACGA\n",
    "\n",
    "\n",
    "#seting up an empty list so values can be added to it\n",
    "lst=[]\n",
    "\n",
    "#This was the code i created to test if it can be done within the variable seq\n",
    "# for i in seq:\n",
    "#     if i == \"A\":\n",
    "#         print(\"A\")\n",
    "#     if i == \"T\":\n",
    "#         print(\"T\")\n",
    "#     if i == \"G\":\n",
    "#         print(\"G\")\n",
    "#     if i == \"C\":\n",
    "#         print(\"C\")\n",
    "#     if i != \"A\"or\"T\"or\"C\"or\"G\":\n",
    "#         print(\"F\")\n",
    "\n",
    "#using a for loop to loop through the variable seq\n",
    "for i in seq:\n",
    "    #using an if statment if i is string value of A added to the empty list with append\n",
    "    if \"A\" in i:\n",
    "        lst.append(i)\n",
    "    #using an if statment if i is string value of C added to the empty list with append\n",
    "    elif \"C\" in i:\n",
    "        lst.append(i)\n",
    "    #using an if statment if i is string value of T added to the empty list with append\n",
    "    elif \"T\" in i:\n",
    "        lst.append(i)\n",
    "    #using an if statment if i is string value of G added to the empty list with append\n",
    "    elif \"G\" in i:\n",
    "        lst.append(i)\n",
    "    \n",
    "print(lst)\n",
    "\n"
   ]
  },
  {
   "cell_type": "markdown",
   "metadata": {},
   "source": [
    "## 2.\n",
    "\n",
    "Given a dictionary of headers and sequences, for example\n",
    "`d1 = {'seq1':\"ATCGA\", 'seq2':\"GCAGTA\", 'seq3':\"GCGCGCCGCGCTGACATCGA\"}`\n",
    "Build a generator comprehension that will yield sequences longer than a certain number\n"
   ]
  },
  {
   "cell_type": "code",
   "execution_count": 1,
   "metadata": {},
   "outputs": [
    {
     "data": {
      "text/plain": [
       "['GCAGTA', 'GCGCGCCGCGCTGACATCGA']"
      ]
     },
     "execution_count": 1,
     "metadata": {},
     "output_type": "execute_result"
    }
   ],
   "source": [
    "#d1 is a dictionary which holds key and vaule worth of strings\n",
    "d1 = {'seq1':\"ATCGA\", 'seq2':\"GCAGTA\", 'seq3':\"GCGCGCCGCGCTGACATCGA\"}\n",
    "\n",
    "#the comprehension would look at the value within d1 \n",
    "#with the help of .values() function and if the length is less than 5 keep it\n",
    "min_seq_length = [v for v in d1.values() if len(v) > 5]\n",
    "\n",
    "min_seq_length\n"
   ]
  },
  {
   "cell_type": "markdown",
   "metadata": {},
   "source": [
    "## 3.\n",
    "\n",
    "Given a dictionary of headers and sequences, for example\n",
    "`d1 = {'seq1':\"ATCGA\", 'seq2':\"GCAGTA\", 'seq3':\"GCGCGCCGCGCTGACATCGA\"}`\n",
    "Build a comprehension that will create a list of sequences with GC Content higher than 45%"
   ]
  },
  {
   "cell_type": "code",
   "execution_count": 12,
   "metadata": {},
   "outputs": [
    {
     "ename": "SyntaxError",
     "evalue": "invalid syntax (2391527495.py, line 14)",
     "output_type": "error",
     "traceback": [
      "\u001b[0;36m  File \u001b[0;32m\"/var/folders/8z/lphqfgss49x39ny_y4n31tsr0000gn/T/ipykernel_14080/2391527495.py\"\u001b[0;36m, line \u001b[0;32m14\u001b[0m\n\u001b[0;31m    v for v in d1.count():\u001b[0m\n\u001b[0m      ^\u001b[0m\n\u001b[0;31mSyntaxError\u001b[0m\u001b[0;31m:\u001b[0m invalid syntax\n"
     ]
    }
   ],
   "source": [
    "d1 = {'seq1':\"ATCGA\", 'seq2':\"GCAGTA\", 'seq3':\"GCGCGCCGCGCTGACATCGA\"}\n",
    "\n",
    "#the function to count the gentic code \n",
    "def gc_content(d1):\n",
    "    #an empty variable for all A genes\n",
    "    a = 0\n",
    "    #an empty variable for all T genes\n",
    "    t = 0\n",
    "    #an empty variable for all C genes\n",
    "    c = 0\n",
    "    #an empty variable for all G genes\n",
    "    g = 0\n",
    "    #A for loop to loop through the sequence with the function count to make them a number based on the if statement\n",
    "    v for v in d1.count():\n",
    "        if v == \"A\":\n",
    "            + 1\n",
    "        if v == \"T\":\n",
    "            +1\n",
    "        if v == \"C\":\n",
    "            +1\n",
    "        if v == \"G\":\n",
    "            +1\n",
    "    #total variable is the content of gene c with g over the total of A,T,C,G        \n",
    "    total = c+g(100)/(a+t+c+g)\n",
    "    print(total)\n",
    "\n",
    "gc_content(d1)"
   ]
  },
  {
   "cell_type": "markdown",
   "metadata": {},
   "source": [
    "## 4.\n",
    "Given a passage, first create a function that will return the number of unique vowels in a string. Then, create a comprehension that will build a list of words in the passage that contain at least 3 unique vowels"
   ]
  },
  {
   "cell_type": "code",
   "execution_count": 13,
   "metadata": {},
   "outputs": [
    {
     "data": {
      "text/plain": [
       "['Once',\n",
       " 'upon',\n",
       " 'a',\n",
       " 'midnight',\n",
       " 'dreary,',\n",
       " 'while',\n",
       " 'I',\n",
       " 'pondered,',\n",
       " 'weak',\n",
       " 'and',\n",
       " 'weary,',\n",
       " 'Over',\n",
       " 'many',\n",
       " 'a',\n",
       " 'quaint',\n",
       " 'and',\n",
       " 'curious',\n",
       " 'volume',\n",
       " 'of',\n",
       " 'forgotten',\n",
       " 'lore—',\n",
       " 'While',\n",
       " 'I',\n",
       " 'nodded,',\n",
       " 'nearly',\n",
       " 'napping,',\n",
       " 'suddenly',\n",
       " 'there',\n",
       " 'came',\n",
       " 'a',\n",
       " 'tapping,',\n",
       " 'As',\n",
       " 'of',\n",
       " 'some',\n",
       " 'one',\n",
       " 'gently',\n",
       " 'rapping,',\n",
       " 'rapping',\n",
       " 'at',\n",
       " 'my',\n",
       " 'chamber',\n",
       " 'door.',\n",
       " '“’Tis',\n",
       " 'some',\n",
       " 'visitor,”',\n",
       " 'I',\n",
       " 'muttered,',\n",
       " '“tapping',\n",
       " 'at',\n",
       " 'my',\n",
       " 'chamber',\n",
       " 'door—',\n",
       " 'Only',\n",
       " 'this',\n",
       " 'and',\n",
       " 'nothing',\n",
       " 'more.”']"
      ]
     },
     "execution_count": 13,
     "metadata": {},
     "output_type": "execute_result"
    }
   ],
   "source": [
    "passage = \"\"\"Once upon a midnight dreary, while I pondered, weak and weary,\n",
    "Over many a quaint and curious volume of forgotten lore—\n",
    "    While I nodded, nearly napping, suddenly there came a tapping,\n",
    "As of some one gently rapping, rapping at my chamber door. \n",
    "“’Tis some visitor,” I muttered, “tapping at my chamber door—\n",
    "            Only this and nothing more.”\"\"\"\n",
    "# the function of vowel with the argument of passage_word\n",
    "def vowel(passage_word):\n",
    "    #an empty varible of total_word that takes in the values passed through it to collect the words that have vowls\n",
    "    total_word = 0\n",
    "    for i in passage_word:\n",
    "        #the if statements are for the vowels that i am looking for and should be added to total_word if it has it\n",
    "        if i == \"a\" or \"A\":\n",
    "            total_word += 1\n",
    "        if i == \"i\" or \"I\":\n",
    "            total_word += 1\n",
    "        if i == \"o\" or \"O\":\n",
    "            total_word += 1\n",
    "        if i == \"u\" or \"U\":\n",
    "            total_word += 1\n",
    "                     #print(i)\n",
    "        #if it does not contain the vowel \n",
    "        else:\n",
    "            pass\n",
    "        \n",
    "    return total_word\n",
    "\n",
    "# the new_passage is a comprehension where the argument where a for loop loops through the passage \n",
    "#and split the word  and uses the function to find words with less more than 3 vowels\n",
    "new_passage = [passage_word for passage_word in passage.split() if vowel(passage_word) > 3]\n",
    "new_passage\n",
    "\n",
    "# def vowel(passage):\n",
    "#     i = 0\n",
    "#     for i in passage:\n",
    "#         if i == \"a\" or \"A\":\n",
    "#             += 1\n",
    "#         if i == \"i\" or \"I\":\n",
    "#             += 1\n",
    "#         if i == \"o\" or \"O\":\n",
    "#             += 1\n",
    "#         if i == \"u\" or \"U\":\n",
    "#             += 1\n",
    "#                         #print(i)\n",
    "#         else:\n",
    "#             pass\n",
    "        \n",
    "# print(vowel(passage))"
   ]
  },
  {
   "cell_type": "markdown",
   "metadata": {},
   "source": [
    "## 5\n",
    "\n",
    "Write a comprehension that will generate the reverse complement of a sequence.\n",
    "\n",
    "\"ATCGACGA\" would be 'TCGTCGAT'"
   ]
  },
  {
   "cell_type": "code",
   "execution_count": 14,
   "metadata": {},
   "outputs": [
    {
     "data": {
      "text/plain": [
       "'TCGTCGUT'"
      ]
     },
     "execution_count": 14,
     "metadata": {},
     "output_type": "execute_result"
    }
   ],
   "source": [
    "# def reVers(seq2):\n",
    "#     for i in seq2:\n",
    "#         if i == \"A\":\n",
    "#             print(\"T\")\n",
    "#         if i == \"T\":\n",
    "#             print(\"C\")\n",
    "#         if i == \"G\":\n",
    "#             print(\"C\")\n",
    "#         if i == \"C\":\n",
    "#             print(\"G\")\n",
    "\n",
    "\n",
    "# reVers(seq2)\n",
    "\n",
    "\n",
    "#with the help from class notes \n",
    "\n",
    "#this is the sequence that is equal to the variable\n",
    "seq2 = \"ATCGACGA\"\n",
    "\n",
    "#this is the comprehension expression which takes an empty string and uses the .join() function\n",
    "#it loops through and looks for a string of \"T\",\"A\",\"C\" or \"G\" and converts it to \"T\", \"U\", \"C\" or \"G\" from the seq variable above\n",
    "reVers =\"\".join([\"T\" if i == \"A\" else \"U\" if i == \"T\" else \"C\" if i == \"G\" else \"G\" if i == \"C\" else \"\" for i in list (seq2)[::-1]])\n",
    "\n",
    "reVers"
   ]
  },
  {
   "cell_type": "code",
   "execution_count": null,
   "metadata": {},
   "outputs": [],
   "source": []
  }
 ],
 "metadata": {
  "kernelspec": {
   "display_name": "Python 3 (ipykernel)",
   "language": "python",
   "name": "python3"
  },
  "language_info": {
   "codemirror_mode": {
    "name": "ipython",
    "version": 3
   },
   "file_extension": ".py",
   "mimetype": "text/x-python",
   "name": "python",
   "nbconvert_exporter": "python",
   "pygments_lexer": "ipython3",
   "version": "3.9.13"
  },
  "vscode": {
   "interpreter": {
    "hash": "b0fa6594d8f4cbf19f97940f81e996739fb7646882a419484c72d19e05852a7e"
   }
  }
 },
 "nbformat": 4,
 "nbformat_minor": 2
}
