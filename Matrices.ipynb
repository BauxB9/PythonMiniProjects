{
 "cells": [
  {
   "cell_type": "markdown",
   "metadata": {},
   "source": [
    "Name: Bou Haidara\n",
    "\n",
    "Email: bhaidara@uncc.edu\n",
    "\n",
    "## Matrices\n",
    "\n",
    "For this lab, you'll be using numpy arrays to design functions that will perform matrix addition and math. If you need to review how Matrix addition and multiplication work, review the following links:\n",
    "\n",
    "- [Multiplication](https://en.wikipedia.org/wiki/Matrix_multiplication)\n",
    "- [Addition](https://en.wikipedia.org/wiki/Matrix_addition)\n",
    "\n",
    "##### A couple of notes:\n",
    "- You should have two functions, one for addition, one for multiplication\n",
    "- These functions should take two parameters, each one being a 2 Dimensional numpy array. It should return a numpy array.\n",
    "- I am testing you on your ability to create the necessary loops, the arrays themselves, and your ability to use indexing and splicing in the context of a numpy array. You should not use any of the built in numpy methods to shortcut this process.\n",
    "- Show your results. Let us see your test cases and what each produced.\n",
    "\n",
    "Extra Credit opportunity: Bonus points can be earned for included the checks that would determine if addition or multiplication is allowed based on the dimensions of each array."
   ]
  },
  {
   "cell_type": "code",
   "execution_count": 2,
   "metadata": {},
   "outputs": [],
   "source": [
    "#you have to import numpy and you can replace it to a shorter name when doing these types of problems\n",
    "import numpy as np"
   ]
  },
  {
   "cell_type": "code",
   "execution_count": 3,
   "metadata": {},
   "outputs": [
    {
     "name": "stdout",
     "output_type": "stream",
     "text": [
      "[3 2]\n",
      "[6 8]\n",
      "[ 3 10]\n",
      "None\n"
     ]
    }
   ],
   "source": [
    "#the 2 arrays located below are 2 dimentional arrays\n",
    "#the varaible name that is = \"np.array\" referes to the np library and the [array of numbers]\n",
    "arr1 = np.array([[1,1],[1,1],[1,1]])\n",
    "arr2 = np.array([[2,1],[5,7],[2,9]])\n",
    "\n",
    "#The function to add the two arrays located above\n",
    "def arrAdd(arr1,arr2):\n",
    "    #Using a for loop that will loop throgh the arrary of i and add each number based on the cooesponding number\n",
    "    for i in range(3):\n",
    "        total=arr1[i]+arr2[i]\n",
    "        print(total)\n",
    "        \n",
    "print(arrAdd(arr1,arr2))"
   ]
  },
  {
   "cell_type": "code",
   "execution_count": 4,
   "metadata": {},
   "outputs": [
    {
     "data": {
      "text/plain": [
       "array([[ 3,  2],\n",
       "       [ 6,  8],\n",
       "       [ 3, 10]])"
      ]
     },
     "execution_count": 4,
     "metadata": {},
     "output_type": "execute_result"
    }
   ],
   "source": [
    "#just to check if the answer is correct\n",
    "np.add(arr1,arr2)"
   ]
  },
  {
   "cell_type": "code",
   "execution_count": 5,
   "metadata": {},
   "outputs": [
    {
     "name": "stdout",
     "output_type": "stream",
     "text": [
      "[  5   8 -16]\n",
      "[  9  30 -24]\n",
      "[-10  81  -7]\n",
      "None\n"
     ]
    }
   ],
   "source": [
    "#This was a test to see if the function would work \n",
    "#the arrays for the arguments above have to be compatiable to be multiplied or line up the dimentions  \n",
    "arr3 = np.array([[1,4,-2],[3,5,-6], [5,9,-1]]) #this is a 2 by 3 array\n",
    "arr4 = np.array([[5,2,8],[3,6,4],[-2,9,7]]) #this is a 2 by 3 array\n",
    "\n",
    "\n",
    "def arrMul(arr3,arr4):\n",
    "#Using a for loop that will loop throgh the arrary of i and add each number based on the cooesponding number    \n",
    "    for i in range(3):\n",
    "        total2=arr3[i]*arr4[i]\n",
    "        print(total2)\n",
    "        \n",
    "print(arrMul(arr3,arr4))"
   ]
  },
  {
   "cell_type": "code",
   "execution_count": 6,
   "metadata": {},
   "outputs": [
    {
     "data": {
      "text/plain": [
       "array([[ 21,   8,  10],\n",
       "       [ 42, -18,   2],\n",
       "       [ 54,  55,  69]])"
      ]
     },
     "execution_count": 6,
     "metadata": {},
     "output_type": "execute_result"
    }
   ],
   "source": [
    "#just to check if the function above worked\n",
    "np.dot(arr3,arr4)"
   ]
  },
  {
   "cell_type": "code",
   "execution_count": 11,
   "metadata": {},
   "outputs": [
    {
     "ename": "TypeError",
     "evalue": "only integer scalar arrays can be converted to a scalar index",
     "output_type": "error",
     "traceback": [
      "\u001b[0;31m---------------------------------------------------------------------------\u001b[0m",
      "\u001b[0;31mTypeError\u001b[0m                                 Traceback (most recent call last)",
      "\u001b[0;32m/var/folders/8z/lphqfgss49x39ny_y4n31tsr0000gn/T/ipykernel_83713/1905093304.py\u001b[0m in \u001b[0;36m<module>\u001b[0;34m\u001b[0m\n\u001b[1;32m     24\u001b[0m     \u001b[0;32mreturn\u001b[0m \u001b[0mtotal\u001b[0m\u001b[0;34m\u001b[0m\u001b[0;34m\u001b[0m\u001b[0m\n\u001b[1;32m     25\u001b[0m \u001b[0;34m\u001b[0m\u001b[0m\n\u001b[0;32m---> 26\u001b[0;31m \u001b[0mprint\u001b[0m\u001b[0;34m(\u001b[0m\u001b[0marrMult\u001b[0m\u001b[0;34m(\u001b[0m\u001b[0marr5\u001b[0m\u001b[0;34m,\u001b[0m\u001b[0marr6\u001b[0m\u001b[0;34m)\u001b[0m\u001b[0;34m)\u001b[0m\u001b[0;34m\u001b[0m\u001b[0;34m\u001b[0m\u001b[0m\n\u001b[0m",
      "\u001b[0;32m/var/folders/8z/lphqfgss49x39ny_y4n31tsr0000gn/T/ipykernel_83713/1905093304.py\u001b[0m in \u001b[0;36marrMult\u001b[0;34m(arr5, arr6)\u001b[0m\n\u001b[1;32m     16\u001b[0m     \u001b[0mtotal\u001b[0m \u001b[0;34m=\u001b[0m \u001b[0;34m[\u001b[0m\u001b[0;34m]\u001b[0m\u001b[0;34m\u001b[0m\u001b[0;34m\u001b[0m\u001b[0m\n\u001b[1;32m     17\u001b[0m     \u001b[0;31m#the function goes through a for loop to loop through the first number in arr5 beacuse\u001b[0m\u001b[0;34m\u001b[0m\u001b[0;34m\u001b[0m\u001b[0m\n\u001b[0;32m---> 18\u001b[0;31m     \u001b[0;32mfor\u001b[0m \u001b[0ma\u001b[0m \u001b[0;32min\u001b[0m \u001b[0mrange\u001b[0m\u001b[0;34m(\u001b[0m\u001b[0marr5\u001b[0m\u001b[0;34m[\u001b[0m\u001b[0;36m0\u001b[0m\u001b[0;34m]\u001b[0m\u001b[0;34m)\u001b[0m\u001b[0;34m:\u001b[0m\u001b[0;34m\u001b[0m\u001b[0;34m\u001b[0m\u001b[0m\n\u001b[0m\u001b[1;32m     19\u001b[0m         \u001b[0;31m#the function goes through another for loop through in the second arr6\u001b[0m\u001b[0;34m\u001b[0m\u001b[0;34m\u001b[0m\u001b[0m\n\u001b[1;32m     20\u001b[0m         \u001b[0;32mfor\u001b[0m \u001b[0mb\u001b[0m \u001b[0;32min\u001b[0m \u001b[0mrange\u001b[0m\u001b[0;34m(\u001b[0m\u001b[0marr6\u001b[0m\u001b[0;34m[\u001b[0m\u001b[0;36m0\u001b[0m\u001b[0;34m]\u001b[0m\u001b[0;34m)\u001b[0m\u001b[0;34m:\u001b[0m\u001b[0;34m\u001b[0m\u001b[0;34m\u001b[0m\u001b[0m\n",
      "\u001b[0;31mTypeError\u001b[0m: only integer scalar arrays can be converted to a scalar index"
     ]
    }
   ],
   "source": [
    "#https://www.youtube.com/watch?v=erdi5mtYSEQ&t=359s I used this video to understand the arrays multiplication\n",
    "#rXc\n",
    "arr5 = np.array([[1,4],[2,4]])#this is a 1 by 1 array\n",
    "arr6 = np.array([[5,2],[7,1]])#this is a 1 by 1 array\n",
    "#the arrays for the arguments above have to be compatiable to be multiplied or line up the dimentions\n",
    "#the numbers have to be multiplied and then added together (row by column)\n",
    "\n",
    "#print(arr5)\n",
    "#print(arr6)\n",
    "# I wanted to see if the numbers have to be multiplied and then added together (row by column)\n",
    "#print(((sum(arr5[0,0] * arr6[0,0]))))\n",
    "\n",
    "#the function takes the 2 arguments\n",
    "def arrMult(arr5,arr6):\n",
    "    #created an empty array to add the new intergers into\n",
    "    total = []\n",
    "    #the function goes through a for loop to loop through the first number in arr5 beacuse \n",
    "    for a in range(arr5[0]):\n",
    "        #the function goes through another for loop through in the second arr6\n",
    "        for b in range(arr6[0]):\n",
    "            #after looping through the they are supposed to multiply and add the integers into the empty array\n",
    "                total[i,j] += (arr5[i,x]) * (arr6[x,j])\n",
    "                \n",
    "    return total\n",
    "\n",
    "print(arrMult(arr5,arr6))"
   ]
  },
  {
   "cell_type": "code",
   "execution_count": 12,
   "metadata": {},
   "outputs": [
    {
     "data": {
      "text/plain": [
       "array([[33,  6],\n",
       "       [38,  8]])"
      ]
     },
     "execution_count": 12,
     "metadata": {},
     "output_type": "execute_result"
    }
   ],
   "source": [
    "#just to check if the function above worked\n",
    "np.dot(arr5,arr6)"
   ]
  },
  {
   "cell_type": "code",
   "execution_count": null,
   "metadata": {},
   "outputs": [],
   "source": []
  },
  {
   "cell_type": "code",
   "execution_count": null,
   "metadata": {},
   "outputs": [],
   "source": []
  }
 ],
 "metadata": {
  "kernelspec": {
   "display_name": "Python 3 (ipykernel)",
   "language": "python",
   "name": "python3"
  },
  "language_info": {
   "codemirror_mode": {
    "name": "ipython",
    "version": 3
   },
   "file_extension": ".py",
   "mimetype": "text/x-python",
   "name": "python",
   "nbconvert_exporter": "python",
   "pygments_lexer": "ipython3",
   "version": "3.9.13"
  }
 },
 "nbformat": 4,
 "nbformat_minor": 4
}
