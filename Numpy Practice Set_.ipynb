{
 "cells": [
  {
   "cell_type": "markdown",
   "metadata": {},
   "source": [
    "Subtract the 1D Array *arr2* from the 2D array *arr1*, such that each item of *arr2* subtracts from respective row of *arr1*\n",
    "\n",
    "Ex\n",
    "\n",
    "arr1 = `[[x1, x2 , x3], [y1, y2, y3], [z1,z2,z3]]`\n",
    "\n",
    "arr2 = `[x,y,z]`\n",
    "\n",
    "Result `[ [ x1-x, x2-x, x3-x],` etc"
   ]
  },
  {
   "cell_type": "code",
   "execution_count": 1,
   "metadata": {},
   "outputs": [
    {
     "name": "stdout",
     "output_type": "stream",
     "text": [
      "[[0 1 2]\n",
      " [3 4 5]\n",
      " [6 7 8]]\n",
      "[0 1 2]\n",
      "[0 1 2]\n",
      "[2 3 4]\n",
      "[4 5 6]\n"
     ]
    }
   ],
   "source": [
    "import numpy as np\n",
    "arr1 = np.arange(9).reshape(3,3)\n",
    "                        #column , row for the reshape\n",
    "arr2 = np.arange(3)\n",
    "print(arr1)\n",
    "print(arr2)\n",
    "\n",
    "#arr1 - arr2\n",
    "\n",
    "for i in range(3):\n",
    "    arr = arr1[i]-arr2[i]\n",
    "    print(arr)"
   ]
  },
  {
   "cell_type": "markdown",
   "metadata": {},
   "source": [
    "Given a 1D Array, find the local maxima (numbers surrounded by 2 smaller numbers)"
   ]
  },
  {
   "cell_type": "code",
   "execution_count": 2,
   "metadata": {},
   "outputs": [
    {
     "name": "stdout",
     "output_type": "stream",
     "text": [
      "5\n",
      "4\n"
     ]
    }
   ],
   "source": [
    "arr3 = np.array([1,5,2,4,0])\n",
    "#print(arr3.shape[0]-2)\n",
    "for i in range(1,len(arr3)-1):\n",
    "    if arr3[i] > arr3[i-1] and arr3[i] > arr3[i+1]:\n",
    "        print(arr3[i])"
   ]
  },
  {
   "cell_type": "markdown",
   "metadata": {},
   "source": [
    "Given two n x m Arrays, compute the average of elements in matching subarrays\n",
    "\n",
    "Ex\n",
    "\n",
    "arr1      \n",
    "`[[1,1],[2,2],[3,3]]`\n",
    "\n",
    "arr2      \n",
    "`[[1,1],[2,2],[3,3]]`\n",
    "\n",
    "result:\n",
    "`[1,2,3]`\n",
    "\n"
   ]
  },
  {
   "cell_type": "code",
   "execution_count": 6,
   "metadata": {},
   "outputs": [
    {
     "data": {
      "text/plain": [
       "1.0"
      ]
     },
     "execution_count": 6,
     "metadata": {},
     "output_type": "execute_result"
    }
   ],
   "source": [
    "#row x column multi row x column. the 2 in the middle have to be the same\n",
    "a1 = np.array([[1,1],[2,2],[3,3]])\n",
    "a2 = np.array([[1,1],[2,2],[3,3]])\n",
    "a3 = np.zeros(3)\n",
    "((sum(a1[0]) + sum(a2[0])) / (len(a1[0])*2))"
   ]
  },
  {
   "cell_type": "code",
   "execution_count": null,
   "metadata": {},
   "outputs": [],
   "source": []
  }
 ],
 "metadata": {
  "kernelspec": {
   "display_name": "Python 3 (ipykernel)",
   "language": "python",
   "name": "python3"
  },
  "language_info": {
   "codemirror_mode": {
    "name": "ipython",
    "version": 3
   },
   "file_extension": ".py",
   "mimetype": "text/x-python",
   "name": "python",
   "nbconvert_exporter": "python",
   "pygments_lexer": "ipython3",
   "version": "3.9.13"
  }
 },
 "nbformat": 4,
 "nbformat_minor": 4
}
