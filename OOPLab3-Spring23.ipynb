{
 "cells": [
  {
   "cell_type": "markdown",
   "metadata": {},
   "source": [
    "Name: Bou Haidara\n",
    "Email: bhaidara@uncc.edu\n",
    "#i used this website https://www.pythonlikeyoumeanit.com/Module4_OOP/Introduction_to_OOP.html\n",
    "\n",
    "\n",
    "\n",
    "## Part 1 - Sequence Class\n",
    "\n",
    "Write a Sequence class. In the __init__ method, you should initialized one attribute, a String that represents a DNA Sequence\n",
    "This class should also have the following magic methods we discussed in class yesterday:\n",
    "\n",
    "- __repr__ and __str__\n",
    "- __eq__ and __lt__ (then use the decorator I demonstrated)\n",
    "\n",
    "It is up to you to decide how these should be implemented. For instance, what criteria do you think makes the most sense for saying two sequences are equal to one another? What criteria for one sequence to be considered \"less than\" another?"
   ]
  },
  {
   "cell_type": "code",
   "execution_count": 5,
   "metadata": {},
   "outputs": [],
   "source": [
    "#sequence class goes here\n",
    "from functools import total_ordering \n",
    "\n",
    "class dna_Sequence:\n",
    "    \n",
    "    #this init function is the initializer for the class\n",
    "    def __init__(self,seq):\n",
    "        self.seq = seq\n",
    "        \n",
    "    def __repr__(self):\n",
    "        return f'Sequence bases are {len(self.seq)}'\n",
    "    #this function identifies if it is a string    \n",
    "    def __str__(self):\n",
    "        return self.seq\n",
    "    #this fuction identifies if they are equal\n",
    "    def __eq__(self, other):\n",
    "        return self.seq == other.seq\n",
    "    #this functions identifies if the sequence is not long enough    \n",
    "    def __It__(self,other):\n",
    "        return len(self.seq) < len(other.seq)\n",
    "    #this function is used to find the total gc % within the sequence\n",
    "    def gcCount(self):\n",
    "    #a variable with the number count of 0 to count for each \"G\" in the sequence\n",
    "        gCount = 0\n",
    "    #a variable with the number count of 0 to count for each \"C\" in the sequence\n",
    "        cCount = 0\n",
    "    #a variable with the number count of 0 to count for total amount within the sequence\n",
    "        seqTotal = 0\n",
    "        for i in self.seq:\n",
    "        #within this for loop it allows the count of string \"G\"\n",
    "            if i == \"G\":\n",
    "                gCount += 1\n",
    "        #this allows to increase of the total amount within the gene sequence\n",
    "                seqTotal += 1\n",
    "        #within this for loop it allows the count of string \"C\"\n",
    "            if i == \"C\":\n",
    "                cCount += 1\n",
    "                seqTotal += 1\n",
    "            else:\n",
    "                seqTotal +=1\n",
    "#this allows to get the total \"G\" within the sequeence. Having it as a seperate variable just incase i can use it somewhere else\n",
    "        totalG = int((gCount/seqTotal)*100)\n",
    "#this allows to get the total \"C\" within the sequeence. Having it as a seperate variable just incase i can use it somewhere else\n",
    "        totalC = int((cCount/seqTotal)*100)\n",
    "#this allows to get the total amount of \"G\" and \"C\" within the sequence \n",
    "        gcTotal = totalG + totalC\n",
    "        return f'{gcTotal}% of \"G\" and \"C\" within this sequence'\n",
    "\n",
    "    \n",
    "\n",
    "    \n",
    "#These are variables that have string assignments    \n",
    "seq1 = \"ATCGCTAGCAATCACGCCAATCGCATACA\"\n",
    "seq2 = \"ATGCTACCGACGACGACCATCAAAATCCATCGAACA\"\n",
    "seq3 = \"TTCGATCA\"\n",
    "#seq4 = \"CTGACTAG\"\n",
    "#seq5 = \"ATC\"\n",
    "#seq6 = \"AA\"\n",
    "seq7 = \"AAATCGACATTACGGTACATACGACAATCACCCATAGCACGATTACAGACGATCATACAGG\"\n"
   ]
  },
  {
   "cell_type": "code",
   "execution_count": 6,
   "metadata": {},
   "outputs": [
    {
     "name": "stdout",
     "output_type": "stream",
     "text": [
      "False\n"
     ]
    },
    {
     "data": {
      "text/plain": [
       "'36% of \"G\" and \"C\" within this sequence'"
      ]
     },
     "execution_count": 6,
     "metadata": {},
     "output_type": "execute_result"
    }
   ],
   "source": [
    "#Use this cell for testing your Sequence class. Show us what tests you ran to confirm your methods worked correctly\n",
    "#Testing if they one sequence is equal to each other\n",
    "seqTest1 = dna_Sequence(seq1)\n",
    "seqTest2 = dna_Sequence(seq3)\n",
    "print (seqTest1 == seqTest2) \n",
    "#print(seqTest1 > seqTest2)\n",
    "#testing the gcCount\n",
    "seqTest = dna_Sequence(seq7)\n",
    "seqTest.gcCount()"
   ]
  },
  {
   "cell_type": "markdown",
   "metadata": {},
   "source": [
    "## Part 2 - SequenceRecord Class\n",
    "\n",
    "Write a class called Sequence Record. This class should have two attributes:\n",
    "\n",
    "- A label/title (something that describe the source of the sequence, like the contents of a header line in a FASTA file)\n",
    "- and a Sequence object \n",
    "\n",
    "Your initializer should attempt to confirm that the second attribute is, in fact, a Sequence object. Consider the following code and how it could be applied here\n",
    "\n",
    "```\n",
    ">>> s = \"hello\"\n",
    ">>> type(s) == str\n",
    "True \n",
    "```\n",
    "\n",
    "You should also, at minimum, add a __str__ and __repr__ method."
   ]
  },
  {
   "cell_type": "code",
   "execution_count": 7,
   "metadata": {},
   "outputs": [],
   "source": [
    "# SequenceRecord class goes here\n",
    "from functools import total_ordering \n",
    "\n",
    "class SequenceRecord:\n",
    "    #this init function is the initializer for the class\n",
    "    def __init__(self,fContent, seq):\n",
    "        self.fContent = fContent\n",
    "        self.seq = seq\n",
    "        \n",
    "    def __repr__(self):\n",
    "        return f'{self.seq},{self.fContent}'\n",
    "    #this function identifies if it is a string    \n",
    "    def __str__(self):\n",
    "        return f'{self.seq} {self.fContent}'\n",
    "    #this fuction identifies if they are equal\n",
    "    def __eq__(self, other):\n",
    "        return self.seq == other.seq and self.fContent == other.fContent\n",
    "    #this functions identifies if the sequence is not long enough    \n",
    "    def __It__(self,other):\n",
    "        return len(self.fContent) < len(other.fContent)\n",
    "    \n",
    "    \n",
    "seq5 = {'header':'ATCGCATACAGACACTAGC'}\n"
   ]
  },
  {
   "cell_type": "code",
   "execution_count": 8,
   "metadata": {},
   "outputs": [
    {
     "ename": "TypeError",
     "evalue": "__init__() missing 1 required positional argument: 'seq'",
     "output_type": "error",
     "traceback": [
      "\u001b[0;31m---------------------------------------------------------------------------\u001b[0m",
      "\u001b[0;31mTypeError\u001b[0m                                 Traceback (most recent call last)",
      "\u001b[0;32m/var/folders/8z/lphqfgss49x39ny_y4n31tsr0000gn/T/ipykernel_13977/1790134465.py\u001b[0m in \u001b[0;36m<module>\u001b[0;34m\u001b[0m\n\u001b[1;32m      1\u001b[0m \u001b[0;31m# Use this cell to test your SequenceRecord class\u001b[0m\u001b[0;34m\u001b[0m\u001b[0;34m\u001b[0m\u001b[0m\n\u001b[0;32m----> 2\u001b[0;31m \u001b[0mconTest\u001b[0m \u001b[0;34m=\u001b[0m \u001b[0mSequenceRecord\u001b[0m\u001b[0;34m(\u001b[0m\u001b[0mseq5\u001b[0m\u001b[0;34m)\u001b[0m\u001b[0;34m\u001b[0m\u001b[0;34m\u001b[0m\u001b[0m\n\u001b[0m",
      "\u001b[0;31mTypeError\u001b[0m: __init__() missing 1 required positional argument: 'seq'"
     ]
    }
   ],
   "source": [
    "# Use this cell to test your SequenceRecord class\n",
    "conTest = SequenceRecord(seq5)"
   ]
  },
  {
   "cell_type": "markdown",
   "metadata": {},
   "source": [
    "## Part 3 - Parsing using your new classes\n",
    "\n",
    "Build yourself a test FASTA file with approx 3 simple records. Read in this file, and use it contents to create a SequenceRecords for each record in the file. \n",
    "\n",
    "- Please note this process is identical to what we did previously with FASTA parsing, only before we used a dictionary where the key stored the header info, and the value stored the sequence info. Now, our SequenceRecord object holds BOTH pieces.\n",
    "\n",
    "Be sure to confirm your SequenceRecord objects hold the correct information.\n",
    "\n",
    "For extra credit, write your parser as a generator."
   ]
  },
  {
   "cell_type": "code",
   "execution_count": 9,
   "metadata": {},
   "outputs": [
    {
     "name": "stdout",
     "output_type": "stream",
     "text": [
      "[\n",
      ",header_chr20_30178 CTGAATAATACACAGGATACAGGAATTCATGCTA\n",
      "]\n"
     ]
    }
   ],
   "source": [
    "# Write your parser and testing code here\n",
    "# i have used this website https://coding4medicine.com/backup/Python/reading-fasta-files.html\n",
    "# i had to import os and change my working directory\n",
    "import os\n",
    "os.chdir('/Users/bauxhaidara/Desktop/UNCC/BioInfomatics')\n",
    "\n",
    "\n",
    "\n",
    "#in this function we are going to open the SNPS file that is located in my Bioinformatics folder\n",
    "def readFASTA(SNPs2):\n",
    "    #this is going to allows to open and read the text file\n",
    "    openFasta = open(\"guanapo_excess\")\n",
    "    #this will set an header portion to an empty string so values can be added later\n",
    "    fContent = \"\"\n",
    "    #this will set the sequnece protion to an empty string so values can be added later\n",
    "    seq = \"\"\n",
    "    #looping throght the text document\n",
    "    for line in openFasta:\n",
    "#separting the the values inside based on if it startes with header then its a fContent if not then it goes to sequences\n",
    "        if line.startswith(\"header\"):\n",
    "            fContent = line\n",
    "        else:\n",
    "            seq = line\n",
    "            yield SequenceRecord(fContent,dna_Sequence(seq))\n",
    "            \n",
    "            \n",
    "            \n",
    "#in this function we are taking in the arugment of the SNPs file    \n",
    "def outFASTA(SNPs2):\n",
    "    seqLst = []\n",
    "    snpFile = readFASTA(SNPs2)\n",
    "#looping through the SNPs that are in the function readFASTA and adding the end to the empty list\n",
    "    for snps in snpFile:\n",
    "        seqLst.append(snps)\n",
    "    return seqLst\n",
    "\n",
    "\n",
    "def main():\n",
    "    fasTest = outFASTA(SNPs2 = r'C:\\Users\\bauxhaidara\\Desktop\\UNCC\\BioInfomatics\\guanapo_excess')\n",
    "    print(fasTest)\n",
    "    \n",
    "    \n",
    "if __name__==\"__main__\":\n",
    "    main()"
   ]
  },
  {
   "cell_type": "code",
   "execution_count": 10,
   "metadata": {},
   "outputs": [
    {
     "data": {
      "text/plain": [
       "'/Users/bauxhaidara/Desktop/UNCC/BioInfomatics'"
      ]
     },
     "execution_count": 10,
     "metadata": {},
     "output_type": "execute_result"
    }
   ],
   "source": [
    "pwd"
   ]
  },
  {
   "cell_type": "markdown",
   "metadata": {},
   "source": [
    "###OPPLAB - 2"
   ]
  },
  {
   "cell_type": "markdown",
   "metadata": {},
   "source": [
    "Your classes should, at minimum:\n",
    "\n",
    "have a __repr__ and __str__ that provide a meaningful representation as a string\n",
    "check that the bases or amino acids in the string are valid\n",
    "work as the argument for a SequenceRecord\n",
    "DNA\n",
    "\n",
    "a translate method that will convert the DNA sequence and return a ProteinSequence object\n",
    "one other method of your choice (what you did previously is fine)\n",
    "Protein\n",
    "\n",
    "a method of your choice. In this case, if the method you would implement is too complex to reasonably implement or would use resources you don't have access to, it is okay to leave it as what is called a stub method (has only one line, \"pass\") and explain in comments what this method would do and it's purpose\n",
    " \n",
    "\n",
    "Here is a dictionary you can copy into your code to help facilitate DNA translation:\n",
    "\n",
    "aa_dict = {'M':['ATG'], 'F':['TTT', 'TTC'], 'L':['TTA', 'TTG', 'CTT', 'CTC', 'CTA', 'CTG'], 'C':['TGT', 'TGC'], 'Y':['TAC', 'TAT'], 'W':['TGG'], 'P':['CCT', 'CCC', 'CCA', 'CCG'], 'H':['CAT', 'CAC'],\n",
    "'Q':['CAA', 'CAG'], 'R':['CGT', 'CGC', 'CGA', 'CGG', 'AGA', 'AGG'], 'I':['ATT', 'ATC', 'ATA'], 'T':['ACT', 'ACC', 'ACA', 'ACG'],\n",
    "'N':['AAT', 'AAC'], 'K':['AAA', 'AAG'], 'S':['AGT', 'AGC', 'TCT', 'TCC', 'TCA', 'TCG'], 'V':['GTT', 'GTC', 'GTA', 'GTG'],\n",
    "'A':['GCT', 'GCC', 'GCA', 'GCG'], 'D':['GAT', 'GAC'], 'E':['GAA', 'GAG'], 'G':['GGT', 'GGC', 'GGA', 'GGG'], '*':['TAA','TAG','TGA']}"
   ]
  },
  {
   "cell_type": "code",
   "execution_count": 17,
   "metadata": {},
   "outputs": [],
   "source": [
    "from functools import total_ordering\n",
    "#Sequence Class\n",
    "class Seq:\n",
    "     #initalizing and inherate the from the parent class of Seq\n",
    "    def __init__(self,header, seq):\n",
    "        self.header = header\n",
    "        self.seq = seq\n",
    "        \n",
    "    def __repr__(self):\n",
    "        return f'Sequence bases are {len((self.header),(self.sequence))}'\n",
    "    #this function identifies if it is a string    \n",
    "    def __str__(self):\n",
    "        return self.sequence\n",
    "    #this fuction identifies if they are equal\n",
    "    def __eq__(self, other):\n",
    "        return self.sequence == other.sequence\n",
    "    #this functions identifies if the sequence is not long enough    \n",
    "    def __It__(self,other):\n",
    "        return len(self.sequence) < len(other.sequence)\n",
    "    #this function is for the return of the length of the sequence\n",
    "    def __len__(self):\n",
    "        return len(self.sequence)\n",
    "    #this function allows you to add to the exisiting sequence\n",
    "    def __add__(self,other):\n",
    "        return self.sequence + other.sequence"
   ]
  },
  {
   "cell_type": "code",
   "execution_count": 18,
   "metadata": {},
   "outputs": [],
   "source": [
    "#DNASequence Class\n",
    "class dnaSequence(Seq):\n",
    "    #this init function is the initialfor the DNASeq \n",
    "    def __init__(self,header, seq):\n",
    "        self.header = header\n",
    "        self.seq = seq\n",
    "        seq.__init__(self,seq)\n",
    "        \n",
    "    #in this function we are taking in the arugment of the SNPs   \n",
    "    def nBase(Seq):\n",
    "    #this will set an header portion to an empty string so values can be added later\n",
    "        header = \"\"\n",
    "    #this will set the sequnece protion to an empty string so values can be added later\n",
    "        seq = \"\"\n",
    "    #empty list for the new bases\n",
    "        #baseLst = []\n",
    "    #looping throght the text document\n",
    "        for line in seq:\n",
    "    #separting the the values inside based on if it startes with header then its a fContent if not then it goes to sequences\n",
    "            if line in seq == \"A\" or \"C\" or \"G\" or \"T\":\n",
    "                seq = line\n",
    "            else :\n",
    "                header = \"\"\n",
    "                yield Seq(header,seq)\n",
    "                \n",
    "    #this function is used to find the total gc % within the sequence\n",
    "    def gcCount(self):\n",
    "    #a variable with the number count of 0 to count for each \"G\" in the sequence\n",
    "        gCount = 0\n",
    "    #a variable with the number count of 0 to count for each \"C\" in the sequence\n",
    "        cCount = 0\n",
    "    #a variable with the number count of 0 to count for total amount within the sequence\n",
    "        seqTotal = 0\n",
    "        for i in self.seq:\n",
    "        #within this for loop it allows the count of string \"G\"\n",
    "            if i == \"G\":\n",
    "                gCount += 1\n",
    "        #this allows to increase of the total amount within the gene sequence\n",
    "                seqTotal += 1\n",
    "        #within this for loop it allows the count of string \"C\"\n",
    "            if i == \"C\":\n",
    "                cCount += 1\n",
    "                seqTotal += 1\n",
    "            else:\n",
    "                seqTotal +=1\n",
    "    #this allows to get the total \"G\" within the sequeence. Having it as a seperate variable just incase i can use it somewhere else\n",
    "        totalG = int((gCount/seqTotal)*100)\n",
    "    #this allows to get the total \"C\" within the sequeence. Having it as a seperate variable just incase i can use it somewhere else\n",
    "        totalC = int((cCount/seqTotal)*100)\n",
    "    #this allows to get the total amount of \"G\" and \"C\" within the sequence \n",
    "        gcTotal = totalG + totalC\n",
    "        return f'{gcTotal}% of \"G\" and \"C\" within this sequence'\n",
    "    \n",
    "    \n",
    "        \n",
    "        "
   ]
  },
  {
   "cell_type": "code",
   "execution_count": 19,
   "metadata": {},
   "outputs": [],
   "source": [
    "#ProteinSequence Class\n",
    "class proteinSeq(Seq):\n",
    "    \n",
    "    ##this init function is the initial for the proteinSeq Class\n",
    "    def __init__(self,seq):\n",
    "        #and inherate the from the parent class of Seq\n",
    "        seq.__init__(self,seq)\n",
    "        #making an empty list \n",
    "        baseLst = []\n",
    "        #master copy to get the protein seq that are with in the sequences \n",
    "        aa_dict = {'M':['ATG'], 'F':['TTT', 'TTC'], 'L':['TTA', 'TTG', 'CTT', 'CTC', 'CTA', 'CTG'], 'C':['TGT', 'TGC'], 'Y':['TAC', 'TAT'], 'W':['TGG'], 'P':['CCT', 'CCC', 'CCA', 'CCG'], 'H':['CAT', 'CAC'], 'Q':['CAA', 'CAG'], 'R':['CGT', 'CGC', 'CGA', 'CGG', 'AGA', 'AGG'], 'I':['ATT', 'ATC', 'ATA'], 'T':['ACT', 'ACC', 'ACA', 'ACG'], 'N':['AAT', 'AAC'], 'K':['AAA', 'AAG'], 'S':['AGT', 'AGC', 'TCT', 'TCC', 'TCA', 'TCG'], 'V':['GTT', 'GTC', 'GTA', 'GTG'], 'A':['GCT', 'GCC', 'GCA', 'GCG'], 'D':['GAT', 'GAC'], 'E':['GAA', 'GAG'], 'G':['GGT', 'GGC', 'GGA', 'GGG'], '*':['TAA','TAG','TGA']}\n",
    "        #this will set an header portion to an empty string so values can be added later\n",
    "        header = \"\"\n",
    "        #this will set the sequnece protion to an empty string so values can be added later\n",
    "        seq = \"\"\n",
    "        #looping throght the text document\n",
    "        for line in seq:\n",
    "        #separting the the values inside based on if it startes with header then its a fContent if not then it goes to sequences\n",
    "            if line in seq == \"A\" or \"C\" or \"G\" or \"T\":\n",
    "                seq = line\n",
    "            else :\n",
    "                header = \"\"\n",
    "                seq2 = Seq(header,seq)\n",
    "                yield seq2\n",
    "                \n",
    "        for base in baseLst:\n",
    "            if base == aa_dict:\n",
    "                print(f'we have a match with {base}')\n",
    "            else:\n",
    "                print('we do not have a match')\n",
    "            "
   ]
  },
  {
   "cell_type": "code",
   "execution_count": 20,
   "metadata": {},
   "outputs": [
    {
     "ename": "TypeError",
     "evalue": "__init__() missing 1 required positional argument: 'seq'",
     "output_type": "error",
     "traceback": [
      "\u001b[0;31m---------------------------------------------------------------------------\u001b[0m",
      "\u001b[0;31mTypeError\u001b[0m                                 Traceback (most recent call last)",
      "\u001b[0;32m/var/folders/8z/lphqfgss49x39ny_y4n31tsr0000gn/T/ipykernel_13977/1312288587.py\u001b[0m in \u001b[0;36m<module>\u001b[0;34m\u001b[0m\n\u001b[1;32m      1\u001b[0m \u001b[0mtest1\u001b[0m \u001b[0;34m=\u001b[0m \u001b[0;34m\"CTGAATAATACACAGGATACAGGAATTCATGCTA\"\u001b[0m\u001b[0;34m\u001b[0m\u001b[0;34m\u001b[0m\u001b[0m\n\u001b[0;32m----> 2\u001b[0;31m \u001b[0mdnaSequence\u001b[0m\u001b[0;34m(\u001b[0m\u001b[0mtest1\u001b[0m\u001b[0;34m)\u001b[0m\u001b[0;34m\u001b[0m\u001b[0;34m\u001b[0m\u001b[0m\n\u001b[0m\u001b[1;32m      3\u001b[0m \u001b[0mprint\u001b[0m\u001b[0;34m(\u001b[0m\u001b[0mdnaSequence\u001b[0m\u001b[0;34m(\u001b[0m\u001b[0mtest1\u001b[0m\u001b[0;34m)\u001b[0m\u001b[0;34m)\u001b[0m\u001b[0;34m\u001b[0m\u001b[0;34m\u001b[0m\u001b[0m\n",
      "\u001b[0;31mTypeError\u001b[0m: __init__() missing 1 required positional argument: 'seq'"
     ]
    }
   ],
   "source": [
    "test1 = \"CTGAATAATACACAGGATACAGGAATTCATGCTA\"\n",
    "dnaSequence(test1)\n",
    "print(dnaSequence(test1))"
   ]
  },
  {
   "cell_type": "code",
   "execution_count": 21,
   "metadata": {},
   "outputs": [
    {
     "ename": "TypeError",
     "evalue": "__init__() should return None, not 'generator'",
     "output_type": "error",
     "traceback": [
      "\u001b[0;31m---------------------------------------------------------------------------\u001b[0m",
      "\u001b[0;31mTypeError\u001b[0m                                 Traceback (most recent call last)",
      "\u001b[0;32m/var/folders/8z/lphqfgss49x39ny_y4n31tsr0000gn/T/ipykernel_13977/4002883036.py\u001b[0m in \u001b[0;36m<module>\u001b[0;34m\u001b[0m\n\u001b[1;32m      1\u001b[0m \u001b[0mtest2\u001b[0m \u001b[0;34m=\u001b[0m \u001b[0;34m\"CTGAATAATACACAGGATACAGGAATTCATGCTA\"\u001b[0m\u001b[0;34m\u001b[0m\u001b[0;34m\u001b[0m\u001b[0m\n\u001b[0;32m----> 2\u001b[0;31m \u001b[0mtype\u001b[0m\u001b[0;34m(\u001b[0m\u001b[0mproteinSeq\u001b[0m\u001b[0;34m(\u001b[0m\u001b[0mtest2\u001b[0m\u001b[0;34m)\u001b[0m\u001b[0;34m)\u001b[0m\u001b[0;34m\u001b[0m\u001b[0;34m\u001b[0m\u001b[0m\n\u001b[0m\u001b[1;32m      3\u001b[0m \u001b[0mprint\u001b[0m\u001b[0;34m(\u001b[0m\u001b[0mproteinSeq\u001b[0m\u001b[0;34m(\u001b[0m\u001b[0mtest2\u001b[0m\u001b[0;34m)\u001b[0m\u001b[0;34m)\u001b[0m\u001b[0;34m\u001b[0m\u001b[0;34m\u001b[0m\u001b[0m\n",
      "\u001b[0;31mTypeError\u001b[0m: __init__() should return None, not 'generator'"
     ]
    }
   ],
   "source": [
    "test2 = \"CTGAATAATACACAGGATACAGGAATTCATGCTA\"\n",
    "type(proteinSeq(test2))\n",
    "print(proteinSeq(test2))"
   ]
  },
  {
   "cell_type": "markdown",
   "metadata": {},
   "source": [
    "###OOP3"
   ]
  },
  {
   "cell_type": "code",
   "execution_count": 28,
   "metadata": {},
   "outputs": [],
   "source": [
    "from functools import total_ordering\n",
    "#Fasta pars Class\n",
    "class fasPars():\n",
    "    \n",
    "#this init function is the initial for the parser\n",
    "    def __init__(self, file):\n",
    "        self.file = file\n",
    "    \n",
    "    \n",
    "#i used the fasta file that was in the first OOP1 assignment\n",
    "#this function allows for fasta parser of files \n",
    "    def fastaParser(self):\n",
    "        openfasta = open(self.file)\n",
    "        header = None\n",
    "        sequence = \"\"\n",
    "        for line in openfasta:\n",
    "            line = line.strip()\n",
    "            if line.startswith(\">\"):\n",
    "                if header:\n",
    "                    yield (header,sequence)\n",
    "                    sequence = \"\"\n",
    "                #line is a header\n",
    "                header = line.lstrip(\">\")\n",
    "            else:\n",
    "                #line is a sequence line\n",
    "                sequence += line.strip()\n",
    "        yield (header,sequence)\n"
   ]
  },
  {
   "cell_type": "code",
   "execution_count": null,
   "metadata": {},
   "outputs": [],
   "source": []
  }
 ],
 "metadata": {
  "kernelspec": {
   "display_name": "Python 3 (ipykernel)",
   "language": "python",
   "name": "python3"
  },
  "language_info": {
   "codemirror_mode": {
    "name": "ipython",
    "version": 3
   },
   "file_extension": ".py",
   "mimetype": "text/x-python",
   "name": "python",
   "nbconvert_exporter": "python",
   "pygments_lexer": "ipython3",
   "version": "3.9.13"
  },
  "vscode": {
   "interpreter": {
    "hash": "b0fa6594d8f4cbf19f97940f81e996739fb7646882a419484c72d19e05852a7e"
   }
  }
 },
 "nbformat": 4,
 "nbformat_minor": 4
}
